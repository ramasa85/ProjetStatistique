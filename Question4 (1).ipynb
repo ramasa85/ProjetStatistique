{
 "cells": [
  {
   "cell_type": "markdown",
   "metadata": {},
   "source": [
    "# exercice sur Monte carlo\n",
    "DJIBRIL DIALLO -\n",
    "RAMA DIALLO -\n",
    "ABDOUL AZIZ NDIAYE"
   ]
  },
  {
   "cell_type": "code",
   "execution_count": 1,
   "metadata": {},
   "outputs": [],
   "source": [
    "import  numpy as np\n",
    "import matplotlib.pyplot as plt"
   ]
  },
  {
   "cell_type": "code",
   "execution_count": 2,
   "metadata": {
    "pycharm": {
     "name": "#%%\n"
    }
   },
   "outputs": [],
   "source": [
    "from math import sqrt\n",
    "#Definition de la fonction a integer\n",
    "f = lambda x : sqrt(1 - (x * x))"
   ]
  },
  {
   "cell_type": "code",
   "execution_count": 3,
   "metadata": {
    "pycharm": {
     "name": "#%%\n"
    }
   },
   "outputs": [],
   "source": [
    "def  surface(f, x,y) :\n",
    "    \"\"\"\n",
    "    :param x:\n",
    "    :param y:\n",
    "    :return: Renvoie 1 si (x,y) est dans la surface et\n",
    "        renvoie 0 sinon.\n",
    "    \"\"\"\n",
    "    if f(x) >= y:\n",
    "        return 1\n",
    "    else:\n",
    "        return 0"
   ]
  },
  {
   "cell_type": "code",
   "execution_count": 4,
   "metadata": {
    "pycharm": {
     "name": "#%%\n"
    }
   },
   "outputs": [],
   "source": [
    "def calcul_aire(f,N,bornes) :\n",
    "    \"\"\"\n",
    "\n",
    "    :param f: fonction a integrer\n",
    "    :param N: nombre de points\n",
    "    :param bornes: (xmin,xmax,ymin,ymax) les bornes du rectangle englobant\n",
    "    :return: Calcule l'aire de la surface définie\n",
    "        par l'équation implicite f(x,y), et incluse\n",
    "        dans le rectangle défini par 'bornes'.\n",
    "        Le calcul est réalisé en utilisant N points\n",
    "\n",
    "    \"\"\"\n",
    "    # Calculer l'aire du rectangle englobant => A\n",
    "    A = (bornes[1] - bornes[0]) * (bornes[3] - bornes[2])\n",
    "\n",
    "    x = np.random.uniform(bornes[0],bornes[1], size=N)\n",
    "    y = np.random.uniform(bornes[2], bornes[3], size=N)\n",
    "    z = np.linspace(0,1, N)\n",
    "    plt.plot(z, [f(i) for i in z], color='red')\n",
    "    plt.scatter(x,y)\n",
    "\n",
    "    nb = sum([surface(f, x[i], y[i]) for i in range(N)])\n",
    "\n",
    "    return A * (nb/N)"
   ]
  },
  {
   "cell_type": "code",
   "execution_count": 5,
   "metadata": {
    "pycharm": {
     "name": "#%%\n"
    }
   },
   "outputs": [
    {
     "data": {
      "text/plain": [
       "0.7856"
      ]
     },
     "execution_count": 5,
     "metadata": {},
     "output_type": "execute_result"
    },
    {
     "data": {
      "image/png": "[encoded data removed]",
      "text/plain": [
       "<Figure size 432x288 with 1 Axes>"
      ]
     },
     "metadata": {
      "needs_background": "light"
     },
     "output_type": "display_data"
    }
   ],
   "source": [
    "calcul_aire(f, N=100000, bornes=(0, 1, 0, 1))"
   ]
  },
  {
   "cell_type": "code",
   "execution_count": 6,
   "metadata": {
    "pycharm": {
     "name": "#%%\n"
    }
   },
   "outputs": [
    {
     "data": {
      "text/plain": [
       "0.7853981633974483"
      ]
     },
     "execution_count": 6,
     "metadata": {},
     "output_type": "execute_result"
    }
   ],
   "source": [
    "from math import pi\n",
    "\n",
    "pi/4\n"
   ]
  }
 ],
 "metadata": {
  "kernelspec": {
   "display_name": "Python 3",
   "language": "python",
   "name": "python3"
  },
  "language_info": {
   "codemirror_mode": {
    "name": "ipython",
    "version": 3
   },
   "file_extension": ".py",
   "mimetype": "text/x-python",
   "name": "python",
   "nbconvert_exporter": "python",
   "pygments_lexer": "ipython3",
   "version": "3.7.6"
  }
 },
 "nbformat": 4,
 "nbformat_minor": 1
}
